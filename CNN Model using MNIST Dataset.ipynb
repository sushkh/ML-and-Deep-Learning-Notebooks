{
 "cells": [
  {
   "cell_type": "code",
   "execution_count": 170,
   "metadata": {},
   "outputs": [],
   "source": [
    "import numpy as np\n",
    "import random\n",
    "import keras\n",
    "from keras.datasets import mnist\n",
    "from keras.models import Sequential\n",
    "from keras.layers import Dense, Dropout, Flatten\n",
    "from keras.layers import Conv2D, MaxPooling2D\n",
    "from keras import backend as K"
   ]
  },
  {
   "cell_type": "code",
   "execution_count": 171,
   "metadata": {},
   "outputs": [],
   "source": [
    "# load the dataset into train and test sets\n",
    "(x_train, y_train), (x_test, y_test) = mnist.load_data()"
   ]
  },
  {
   "cell_type": "code",
   "execution_count": 172,
   "metadata": {
    "scrolled": true
   },
   "outputs": [
    {
     "name": "stdout",
     "output_type": "stream",
     "text": [
      "train data\n",
      "(60000, 28, 28)\n",
      "(60000,)\n",
      "\n",
      " test data\n",
      "(10000, 28, 28)\n",
      "(10000,)\n"
     ]
    }
   ],
   "source": [
    "print(\"train data\")\n",
    "print(x_train.shape)\n",
    "print(y_train.shape)\n",
    "print(\"\\n test data\")\n",
    "print(x_test.shape)\n",
    "print(y_test.shape)"
   ]
  },
  {
   "cell_type": "code",
   "execution_count": 173,
   "metadata": {},
   "outputs": [
    {
     "name": "stdout",
     "output_type": "stream",
     "text": [
      "(20000, 28, 28)\n",
      "(20000,)\n"
     ]
    }
   ],
   "source": [
    "# sample only 20k images for training\n",
    "idx = np.random.randint(x_train.shape[0], size=20000) # sample 20k indices from 0-60,000\n",
    "x_train = x_train[idx, :]\n",
    "y_train = y_train[idx]\n",
    "print(x_train.shape)\n",
    "print(y_train.shape)"
   ]
  },
  {
   "cell_type": "code",
   "execution_count": 174,
   "metadata": {},
   "outputs": [],
   "source": [
    "# specify input dimensions of each image\n",
    "img_rows, img_cols = 28, 28\n",
    "input_shape = (img_rows, img_cols, 1)\n",
    "\n",
    "# batch size, number of classes, epochs\n",
    "batch_size = 128\n",
    "num_classes = 10\n",
    "epochs = 12"
   ]
  },
  {
   "cell_type": "code",
   "execution_count": 175,
   "metadata": {
    "scrolled": true
   },
   "outputs": [
    {
     "name": "stdout",
     "output_type": "stream",
     "text": [
      "(20000, 28, 28, 1)\n",
      "(10000, 28, 28, 1)\n"
     ]
    }
   ],
   "source": [
    "# reshape x_train and x_test\n",
    "x_train = x_train.reshape(x_train.shape[0], img_rows, img_cols, 1)\n",
    "x_test = x_test.reshape(x_test.shape[0], img_rows, img_cols, 1)\n",
    "print(x_train.shape)\n",
    "print(x_test.shape)"
   ]
  },
  {
   "cell_type": "code",
   "execution_count": 176,
   "metadata": {
    "scrolled": true
   },
   "outputs": [
    {
     "name": "stdout",
     "output_type": "stream",
     "text": [
      "(20000, 10)\n"
     ]
    }
   ],
   "source": [
    "# convert class labels (from digits) to one-hot encoded vectors\n",
    "y_train = keras.utils.to_categorical(y_train, num_classes)\n",
    "y_test = keras.utils.to_categorical(y_test, num_classes)\n",
    "print(y_train.shape)"
   ]
  },
  {
   "cell_type": "code",
   "execution_count": 177,
   "metadata": {},
   "outputs": [
    {
     "data": {
      "text/plain": [
       "dtype('uint8')"
      ]
     },
     "execution_count": 177,
     "metadata": {},
     "output_type": "execute_result"
    }
   ],
   "source": [
    "# originally, the pixels are stored as ints\n",
    "x_train.dtype"
   ]
  },
  {
   "cell_type": "code",
   "execution_count": 178,
   "metadata": {},
   "outputs": [],
   "source": [
    "# convert int to float\n",
    "x_train = x_train.astype('float32')\n",
    "x_test = x_test.astype('float32')\n",
    "\n",
    "# normalise\n",
    "x_train /= 255\n",
    "x_test /= 255"
   ]
  },
  {
   "cell_type": "code",
   "execution_count": 179,
   "metadata": {
    "scrolled": false
   },
   "outputs": [
    {
     "name": "stdout",
     "output_type": "stream",
     "text": [
      "_________________________________________________________________\n",
      "Layer (type)                 Output Shape              Param #   \n",
      "=================================================================\n",
      "conv2d_22 (Conv2D)           (None, 26, 26, 32)        320       \n",
      "_________________________________________________________________\n",
      "conv2d_23 (Conv2D)           (None, 24, 24, 64)        18496     \n",
      "_________________________________________________________________\n",
      "max_pooling2d_11 (MaxPooling (None, 12, 12, 64)        0         \n",
      "_________________________________________________________________\n",
      "dropout_21 (Dropout)         (None, 12, 12, 64)        0         \n",
      "_________________________________________________________________\n",
      "flatten_11 (Flatten)         (None, 9216)              0         \n",
      "_________________________________________________________________\n",
      "dense_21 (Dense)             (None, 128)               1179776   \n",
      "_________________________________________________________________\n",
      "dropout_22 (Dropout)         (None, 128)               0         \n",
      "_________________________________________________________________\n",
      "dense_22 (Dense)             (None, 10)                1290      \n",
      "=================================================================\n",
      "Total params: 1,199,882\n",
      "Trainable params: 1,199,882\n",
      "Non-trainable params: 0\n",
      "_________________________________________________________________\n"
     ]
    }
   ],
   "source": [
    "# model\n",
    "model = Sequential()\n",
    "\n",
    "# a keras convolutional layer is called Conv2D\n",
    "# help(Conv2D)\n",
    "# note that the first layer needs to be told the input shape explicitly\n",
    "\n",
    "# first conv layer\n",
    "model.add(Conv2D(32, kernel_size=(3, 3),\n",
    "                 activation='relu',\n",
    "                 input_shape=input_shape)) # input shape = (img_rows, img_cols, 1)\n",
    "\n",
    "# second conv layer\n",
    "model.add(Conv2D(64, kernel_size=(3, 3), \n",
    "                 activation='relu'))\n",
    "model.add(MaxPooling2D(pool_size=(2, 2)))\n",
    "model.add(Dropout(0.25))\n",
    "\n",
    "# flatten and put a fully connected layer\n",
    "model.add(Flatten())\n",
    "model.add(Dense(128, activation='relu')) # fully connected\n",
    "model.add(Dropout(0.5))\n",
    "\n",
    "# softmax layer\n",
    "model.add(Dense(num_classes, activation='softmax'))\n",
    "\n",
    "# model summary\n",
    "model.summary()\n"
   ]
  },
  {
   "cell_type": "code",
   "execution_count": 180,
   "metadata": {},
   "outputs": [],
   "source": [
    "# usual cross entropy loss\n",
    "# choose any optimiser such as adam, rmsprop etc\n",
    "# metric is accuracy\n",
    "model.compile(loss=keras.losses.categorical_crossentropy,\n",
    "              optimizer=keras.optimizers.Adadelta(),\n",
    "              metrics=['accuracy'])"
   ]
  },
  {
   "cell_type": "code",
   "execution_count": 181,
   "metadata": {
    "scrolled": false
   },
   "outputs": [
    {
     "name": "stdout",
     "output_type": "stream",
     "text": [
      "Train on 20000 samples, validate on 10000 samples\n",
      "Epoch 1/12\n",
      "20000/20000 [==============================] - 62s 3ms/step - loss: 0.4833 - acc: 0.8492 - val_loss: 0.1201 - val_acc: 0.9625\n",
      "Epoch 2/12\n",
      "20000/20000 [==============================] - 63s 3ms/step - loss: 0.1486 - acc: 0.9558 - val_loss: 0.0805 - val_acc: 0.9749\n",
      "Epoch 3/12\n",
      "20000/20000 [==============================] - 61s 3ms/step - loss: 0.1057 - acc: 0.9683 - val_loss: 0.0659 - val_acc: 0.9790\n",
      "Epoch 4/12\n",
      "20000/20000 [==============================] - 61s 3ms/step - loss: 0.0795 - acc: 0.9750 - val_loss: 0.0673 - val_acc: 0.9769\n",
      "Epoch 5/12\n",
      "20000/20000 [==============================] - 61s 3ms/step - loss: 0.0631 - acc: 0.9800 - val_loss: 0.0534 - val_acc: 0.9828\n",
      "Epoch 6/12\n",
      "20000/20000 [==============================] - 63s 3ms/step - loss: 0.0509 - acc: 0.9838 - val_loss: 0.0513 - val_acc: 0.9835\n",
      "Epoch 7/12\n",
      "20000/20000 [==============================] - 63s 3ms/step - loss: 0.0475 - acc: 0.9843 - val_loss: 0.0453 - val_acc: 0.9857\n",
      "Epoch 8/12\n",
      "20000/20000 [==============================] - 66s 3ms/step - loss: 0.0405 - acc: 0.9879 - val_loss: 0.0595 - val_acc: 0.9823\n",
      "Epoch 9/12\n",
      "20000/20000 [==============================] - 62s 3ms/step - loss: 0.0373 - acc: 0.9884 - val_loss: 0.0474 - val_acc: 0.9843\n",
      "Epoch 10/12\n",
      "20000/20000 [==============================] - 70s 3ms/step - loss: 0.0327 - acc: 0.9896 - val_loss: 0.0479 - val_acc: 0.9848\n",
      "Epoch 11/12\n",
      "20000/20000 [==============================] - 67s 3ms/step - loss: 0.0296 - acc: 0.9908 - val_loss: 0.0451 - val_acc: 0.9865\n",
      "Epoch 12/12\n",
      "20000/20000 [==============================] - 64s 3ms/step - loss: 0.0262 - acc: 0.9917 - val_loss: 0.0452 - val_acc: 0.9859\n"
     ]
    },
    {
     "data": {
      "text/plain": [
       "<keras.callbacks.History at 0x12ac28a20>"
      ]
     },
     "execution_count": 181,
     "metadata": {},
     "output_type": "execute_result"
    }
   ],
   "source": [
    "# fit the model\n",
    "# this should take around 10-15 minutes when run locally on a windows/mac PC \n",
    "model.fit(x_train, y_train,\n",
    "          batch_size=batch_size,\n",
    "          epochs=epochs,\n",
    "          verbose=1,\n",
    "          validation_data=(x_test, y_test))"
   ]
  },
  {
   "cell_type": "code",
   "execution_count": 193,
   "metadata": {
    "scrolled": false
   },
   "outputs": [
    {
     "name": "stdout",
     "output_type": "stream",
     "text": [
      "10000/10000 [==============================] - 9s 878us/step\n"
     ]
    },
    {
     "data": {
      "text/plain": [
       "[0.045219762670705134, 0.9859]"
      ]
     },
     "execution_count": 193,
     "metadata": {},
     "output_type": "execute_result"
    }
   ],
   "source": [
    "# evaluate the model on test data\n",
    "model.evaluate(x_test, y_test)"
   ]
  },
  {
   "cell_type": "code",
   "execution_count": 194,
   "metadata": {},
   "outputs": [
    {
     "name": "stdout",
     "output_type": "stream",
     "text": [
      "['loss', 'acc']\n"
     ]
    }
   ],
   "source": [
    "print(model.metrics_names)"
   ]
  },
  {
   "cell_type": "markdown",
   "metadata": {},
   "source": [
    "The final loss (on test data) is about 0.04 and the accuracy is 98.59%."
   ]
  }
 ],
 "metadata": {
  "kernelspec": {
   "display_name": "Python 3",
   "language": "python",
   "name": "python3"
  },
  "language_info": {
   "codemirror_mode": {
    "name": "ipython",
    "version": 3
   },
   "file_extension": ".py",
   "mimetype": "text/x-python",
   "name": "python",
   "nbconvert_exporter": "python",
   "pygments_lexer": "ipython3",
   "version": "3.7.4"
  }
 },
 "nbformat": 4,
 "nbformat_minor": 2
}
